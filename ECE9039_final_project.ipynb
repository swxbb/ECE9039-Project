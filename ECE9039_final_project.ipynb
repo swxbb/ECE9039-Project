{
 "cells": [
  {
   "cell_type": "code",
   "execution_count": 1,
   "metadata": {},
   "outputs": [],
   "source": [
    "import pandas as pd\n",
    "import numpy as np\n",
    "import matplotlib.pyplot as plt\n"
   ]
  },
  {
   "cell_type": "markdown",
   "metadata": {},
   "source": [
    "Dataset approval and preprocessing"
   ]
  },
  {
   "cell_type": "code",
   "execution_count": 13,
   "metadata": {},
   "outputs": [
    {
     "name": "stdout",
     "output_type": "stream",
     "text": [
      "   CODE_GENDER  FLAG_OWN_CAR  FLAG_OWN_REALTY  CNT_CHILDREN  AMT_INCOME_TOTAL  \\\n",
      "0            1             1                0             2          270000.0   \n",
      "1            1             0                0             0           81000.0   \n",
      "2            0             1                1             0          270000.0   \n",
      "3            1             1                1             1          112500.0   \n",
      "4            0             1                1             2          139500.0   \n",
      "\n",
      "   DAYS_BIRTH  DAYS_EMPLOYED  FLAG_MOBIL  FLAG_WORK_PHONE  FLAG_PHONE  ...  \\\n",
      "0       13258           2300           1                0           0  ...   \n",
      "1       17876            377           1                1           1  ...   \n",
      "2       19579           1028           1                0           1  ...   \n",
      "3       15109           1956           1                0           0  ...   \n",
      "4       17281           5578           1                1           0  ...   \n",
      "\n",
      "   JOB_Laborers  JOB_Low-skill Laborers  JOB_Managers  JOB_Medicine staff  \\\n",
      "0         False                   False          True               False   \n",
      "1         False                   False         False               False   \n",
      "2          True                   False         False               False   \n",
      "3         False                   False         False               False   \n",
      "4         False                   False         False               False   \n",
      "\n",
      "   JOB_Private service staff  JOB_Realty agents  JOB_Sales staff  \\\n",
      "0                      False              False            False   \n",
      "1                       True              False            False   \n",
      "2                      False              False            False   \n",
      "3                      False              False            False   \n",
      "4                      False              False            False   \n",
      "\n",
      "   JOB_Secretaries  JOB_Security staff  JOB_Waiters/barmen staff  \n",
      "0            False               False                     False  \n",
      "1            False               False                     False  \n",
      "2            False               False                     False  \n",
      "3            False               False                     False  \n",
      "4            False               False                     False  \n",
      "\n",
      "[5 rows x 48 columns]\n"
     ]
    }
   ],
   "source": [
    "data = pd.read_csv('credit_card_approval.csv')\n",
    "\n",
    "# Remove the missing values\n",
    "data = data.dropna()\n",
    "\n",
    "\n",
    "# Drop the ID \n",
    "data.drop('ID', axis=1, inplace=True)\n",
    "# print(data.head())\n",
    "\n",
    "data['DAYS_BIRTH'] = abs(data['DAYS_BIRTH'])\n",
    "data['DAYS_EMPLOYED'] = abs(data['DAYS_EMPLOYED'])\n",
    "data['BEGIN_MONTHS'] = abs(data['BEGIN_MONTHS'])\n",
    "\n",
    "\n",
    "#  Encode the gender, flag_own_car columns and flag_own_realty, F as 1, M as 0, and Y as 1, N as 0.\n",
    "data['CODE_GENDER'] = data['CODE_GENDER'].map({'F': 1, 'M': 0})\n",
    "data['FLAG_OWN_CAR'] = data['FLAG_OWN_CAR'].map({'Y': 1, 'N': 0})\n",
    "data['FLAG_OWN_REALTY'] = data['FLAG_OWN_REALTY'].map({'Y': 1, 'N': 0})\n",
    "\n",
    "\n",
    "# Preprocess the children column, replace \"2+ Children\" with 2, \"1 Child\" with 1, and \"No Children\" with 0.\n",
    "def process_children(x):\n",
    "    if 'No children' in x:\n",
    "        return 0\n",
    "    elif '1 children' in x:\n",
    "        return 1\n",
    "    elif '2+ children' in x:\n",
    "        return 2  \n",
    "    \n",
    "    else:\n",
    "        return None \n",
    "data['CNT_CHILDREN'] = data['CNT_CHILDREN'].apply(process_children)\n",
    "\n",
    "# One-hot encode the columns NAME_EDUCATION_TYPE, NAME_FAMILY_STATUS, NAME_HOUSING_TYPE, and JOB.\n",
    "data = pd.get_dummies(data, columns=['NAME_EDUCATION_TYPE', 'NAME_FAMILY_STATUS', 'NAME_HOUSING_TYPE', 'JOB'])\n",
    "\n",
    "# Defite status\n",
    "status_mapping = {\n",
    "    '0': 1,   # 1-29 days past due\n",
    "    '1': 2,   # 30-59 days past due\n",
    "    '2': 3,   # 60-89 days overdue\n",
    "    '3': 4,   # 90-119 days overdue\n",
    "    '4': 5,   # 120-149 days overdue\n",
    "    '5': 6,   # Overdue or bad debts, write-offs for more than 150 days\n",
    "    'C': 0,   # paid off that month\n",
    "    'X': -1   # No loan for the month\n",
    "}\n",
    "\n",
    "data['STATUS'] = data['STATUS'].map(status_mapping)\n",
    "\n",
    "\n",
    "\n",
    "print(data.head())\n"
   ]
  }
 ],
 "metadata": {
  "kernelspec": {
   "display_name": "Python 3",
   "language": "python",
   "name": "python3"
  },
  "language_info": {
   "codemirror_mode": {
    "name": "ipython",
    "version": 3
   },
   "file_extension": ".py",
   "mimetype": "text/x-python",
   "name": "python",
   "nbconvert_exporter": "python",
   "pygments_lexer": "ipython3",
   "version": "3.11.8"
  }
 },
 "nbformat": 4,
 "nbformat_minor": 2
}
